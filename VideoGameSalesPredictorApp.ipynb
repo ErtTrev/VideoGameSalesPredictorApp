{
 "cells": [
  {
   "cell_type": "markdown",
   "id": "fa57dc8f-cbcb-4725-82c0-43f273cb32f0",
   "metadata": {
    "extensions": {
     "jupyter_dashboards": {
      "version": 1,
      "views": {
       "grid_default": {},
       "report_default": {
        "hidden": true
       }
      }
     }
    }
   },
   "source": [
    "### Video Game Sales Predictor Application\n",
    "This application examines video game sales data with graphs and a linear regression model is utilized to predict values based on inputs from the user. Press the voila button on the JupyterLab toolbar to get started."
   ]
  },
  {
   "cell_type": "code",
   "execution_count": 1,
   "id": "eb531a4e-1a6f-4d02-8306-df18f099a1da",
   "metadata": {},
   "outputs": [],
   "source": [
    "# Written by Eric Trevorrow\n",
    "\n",
    "# Importing necessary libraries\n",
    "import numpy as np\n",
    "import pandas as pd\n",
    "import matplotlib.pyplot as plt\n",
    "%matplotlib inline\n",
    "import sklearn\n",
    "from sklearn.linear_model import LinearRegression\n",
    "from sklearn.model_selection import train_test_split\n",
    "from sklearn.metrics import mean_absolute_error\n",
    "from pylab import rcParams\n",
    "import ipywidgets as widgets\n",
    "\n",
    "\n",
    "# Reading the csv file and cleaning up the data\n",
    "# CSV file created by Kendall Gillies, from https://www.kaggle.com/datasets/kendallgillies/video-game-sales-and-ratings\n",
    "video_game_sales = pd.read_csv(\"Video_Game_Sales_as_of_Jan_2017.csv\")\n",
    "video_game_sales.replace(to_replace =\"Role-Playing\", \n",
    "                 value = \"Roleplaying\", \n",
    "                  inplace = True)\n",
    "\n",
    "# Gets rid of rows with missing values in a column\n",
    "video_game_sales.dropna(subset=[\"Critic_Score\"], inplace=True)\n",
    "video_game_sales.dropna(subset=[\"User_Score\"], inplace=True)\n",
    "video_game_sales.dropna(subset=[\"Year_of_Release\"], inplace=True)\n",
    "video_game_sales.dropna(subset=[\"Rating\"], inplace=True)\n",
    "\n",
    "# Removes columns that are not needed for the application\n",
    "video_game_sales.drop(\"Platform\", inplace=True, axis=1)\n",
    "video_game_sales.drop(\"Year_of_Release\", inplace=True, axis=1)\n",
    "video_game_sales.drop(\"Publisher\", inplace=True, axis=1)\n",
    "video_game_sales.drop(\"Rating\", inplace=True, axis=1)\n",
    "\n",
    "# Removes outliers above 10 million global sales\n",
    "video_game_sales = video_game_sales[video_game_sales['Global_Sales'] <= 10.0]"
   ]
  },
  {
   "cell_type": "markdown",
   "id": "b9ddf022-7de1-41d0-99ca-d1688e975df3",
   "metadata": {},
   "source": [
    "### Data Sample\n",
    "Below is a sample of the data that we will be using for this application. Sales are in millions, critic score is out of 100, and user score is out of 10.0."
   ]
  },
  {
   "cell_type": "code",
   "execution_count": 2,
   "id": "e833a3cb-c0b6-456f-80d8-59fb17bb46fd",
   "metadata": {},
   "outputs": [
    {
     "data": {
      "text/html": [
       "<div>\n",
       "<style scoped>\n",
       "    .dataframe tbody tr th:only-of-type {\n",
       "        vertical-align: middle;\n",
       "    }\n",
       "\n",
       "    .dataframe tbody tr th {\n",
       "        vertical-align: top;\n",
       "    }\n",
       "\n",
       "    .dataframe thead th {\n",
       "        text-align: right;\n",
       "    }\n",
       "</style>\n",
       "<table border=\"1\" class=\"dataframe\">\n",
       "  <thead>\n",
       "    <tr style=\"text-align: right;\">\n",
       "      <th></th>\n",
       "      <th>Name</th>\n",
       "      <th>Genre</th>\n",
       "      <th>NA_Sales</th>\n",
       "      <th>EU_Sales</th>\n",
       "      <th>JP_Sales</th>\n",
       "      <th>Other_Sales</th>\n",
       "      <th>Global_Sales</th>\n",
       "      <th>Critic_Score</th>\n",
       "      <th>Critic_Count</th>\n",
       "      <th>User_Score</th>\n",
       "      <th>User_Count</th>\n",
       "    </tr>\n",
       "  </thead>\n",
       "  <tbody>\n",
       "    <tr>\n",
       "      <th>64</th>\n",
       "      <td>Halo: Reach</td>\n",
       "      <td>Shooter</td>\n",
       "      <td>7.06</td>\n",
       "      <td>1.97</td>\n",
       "      <td>0.08</td>\n",
       "      <td>0.79</td>\n",
       "      <td>9.90</td>\n",
       "      <td>91.0</td>\n",
       "      <td>99.0</td>\n",
       "      <td>7.9</td>\n",
       "      <td>2053.0</td>\n",
       "    </tr>\n",
       "    <tr>\n",
       "      <th>66</th>\n",
       "      <td>Halo 4</td>\n",
       "      <td>Shooter</td>\n",
       "      <td>6.68</td>\n",
       "      <td>2.30</td>\n",
       "      <td>0.04</td>\n",
       "      <td>0.74</td>\n",
       "      <td>9.77</td>\n",
       "      <td>87.0</td>\n",
       "      <td>87.0</td>\n",
       "      <td>7.0</td>\n",
       "      <td>3273.0</td>\n",
       "    </tr>\n",
       "    <tr>\n",
       "      <th>67</th>\n",
       "      <td>Final Fantasy VII</td>\n",
       "      <td>Roleplaying</td>\n",
       "      <td>3.01</td>\n",
       "      <td>2.47</td>\n",
       "      <td>3.28</td>\n",
       "      <td>0.96</td>\n",
       "      <td>9.72</td>\n",
       "      <td>92.0</td>\n",
       "      <td>20.0</td>\n",
       "      <td>9.2</td>\n",
       "      <td>1297.0</td>\n",
       "    </tr>\n",
       "    <tr>\n",
       "      <th>68</th>\n",
       "      <td>Gran Turismo 2</td>\n",
       "      <td>Racing</td>\n",
       "      <td>3.88</td>\n",
       "      <td>3.42</td>\n",
       "      <td>1.69</td>\n",
       "      <td>0.50</td>\n",
       "      <td>9.49</td>\n",
       "      <td>93.0</td>\n",
       "      <td>23.0</td>\n",
       "      <td>9.0</td>\n",
       "      <td>135.0</td>\n",
       "    </tr>\n",
       "    <tr>\n",
       "      <th>69</th>\n",
       "      <td>Just Dance 2</td>\n",
       "      <td>Misc</td>\n",
       "      <td>5.80</td>\n",
       "      <td>2.85</td>\n",
       "      <td>0.01</td>\n",
       "      <td>0.78</td>\n",
       "      <td>9.44</td>\n",
       "      <td>74.0</td>\n",
       "      <td>24.0</td>\n",
       "      <td>7.3</td>\n",
       "      <td>24.0</td>\n",
       "    </tr>\n",
       "  </tbody>\n",
       "</table>\n",
       "</div>"
      ],
      "text/plain": [
       "                 Name        Genre  NA_Sales  EU_Sales  JP_Sales  Other_Sales  \\\n",
       "64        Halo: Reach      Shooter      7.06      1.97      0.08         0.79   \n",
       "66             Halo 4      Shooter      6.68      2.30      0.04         0.74   \n",
       "67  Final Fantasy VII  Roleplaying      3.01      2.47      3.28         0.96   \n",
       "68     Gran Turismo 2       Racing      3.88      3.42      1.69         0.50   \n",
       "69       Just Dance 2         Misc      5.80      2.85      0.01         0.78   \n",
       "\n",
       "    Global_Sales  Critic_Score  Critic_Count  User_Score  User_Count  \n",
       "64          9.90          91.0          99.0         7.9      2053.0  \n",
       "66          9.77          87.0          87.0         7.0      3273.0  \n",
       "67          9.72          92.0          20.0         9.2      1297.0  \n",
       "68          9.49          93.0          23.0         9.0       135.0  \n",
       "69          9.44          74.0          24.0         7.3        24.0  "
      ]
     },
     "execution_count": 2,
     "metadata": {},
     "output_type": "execute_result"
    }
   ],
   "source": [
    "video_game_sales.head(5)"
   ]
  },
  {
   "cell_type": "markdown",
   "id": "8f7cc4df-89e2-4f42-b1cb-d9fcdc332d35",
   "metadata": {},
   "source": [
    "### This pie chart represents the breakdown of global sales by percentage.\n",
    "Shown below is a pie chart that contains North American sales, European Sales, Japanese sales, and Other sales. Added together, the values are equal to the global sales amount in the cleaned up dataset. Here, we can see that North America counts for 51.5% of global sales. Europe comes in second, accounting for 30.2% of global sales. Other regions add up to be 10.4% of global sales. Finally, Japan accounts for 7.9% of global sales."
   ]
  },
  {
   "cell_type": "code",
   "execution_count": 3,
   "id": "b8182f55",
   "metadata": {
    "extensions": {
     "jupyter_dashboards": {
      "version": 1,
      "views": {
       "grid_default": {},
       "report_default": {
        "hidden": false
       }
      }
     }
    }
   },
   "outputs": [
    {
     "data": {
      "image/png": "[encoded data removed]",
      "text/plain": [
       "<Figure size 1000x800 with 1 Axes>"
      ]
     },
     "metadata": {},
     "output_type": "display_data"
    }
   ],
   "source": [
    "# Code to create a pie chart using NA Sales, EU Sales, JP Sales, and Other Sales\n",
    "rcParams['figure.figsize'] = 10,8\n",
    "labels = 'NA Sales', 'EU Sales', 'JP Sales', 'Other Sales'\n",
    "sizes = [video_game_sales[\"NA_Sales\"].sum(), video_game_sales[\"EU_Sales\"].sum(), video_game_sales[\"JP_Sales\"].sum(), video_game_sales[\"Other_Sales\"].sum()]\n",
    "colors = [\"#E74C3C\", \"#3498DB\", \"#28B463\", \"#DCE70A\"]\n",
    "fig, ax1 = plt.subplots()\n",
    "def autopct_format(values):\n",
    "    def my_format(pct):\n",
    "        total = sum(values)\n",
    "        val = int(round(pct*total/100))\n",
    "ax1.pie(sizes, labels=labels, colors=colors, autopct='%1.1f%%',\n",
    "        shadow=False, startangle=45)\n",
    "ax1.axis('equal')\n",
    "plt.title('Breakdown of Global Sales')\n",
    "plt.show()"
   ]
  },
  {
   "cell_type": "markdown",
   "id": "75de2397-9f1c-4fc3-b558-41f1137beb7e",
   "metadata": {},
   "source": [
    "### This bar chart represents the number of games in each genre within the cleaned up dataset.\n",
    "Shown below is a bar chart that contains each of the genres in our dataset. Here we can see the amount of games for each genre. Action games are the most made genre of video game, followed by sports and so on. Puzzle games are the least made genre of video game, with adventure games being second to last."
   ]
  },
  {
   "cell_type": "code",
   "execution_count": 4,
   "id": "9d4b7781",
   "metadata": {
    "extensions": {
     "jupyter_dashboards": {
      "version": 1,
      "views": {
       "grid_default": {},
       "report_default": {
        "hidden": false
       }
      }
     }
    }
   },
   "outputs": [
    {
     "data": {
      "image/png": "[encoded data removed]",
      "text/plain": [
       "<Figure size 1000x800 with 1 Axes>"
      ]
     },
     "metadata": {},
     "output_type": "display_data"
    }
   ],
   "source": [
    "# Code to create a bar chart using genres and value counts\n",
    "rcParams['figure.figsize'] = 10,8\n",
    "genre_number = {\"Action\": video_game_sales['Genre'].value_counts().Action,\n",
    "                    \"Sports\": video_game_sales['Genre'].value_counts().Sports,\n",
    "                    \"Shooter\": video_game_sales['Genre'].value_counts().Shooter,\n",
    "                    \"Roleplaying\": video_game_sales['Genre'].value_counts().Roleplaying,\n",
    "                   \"Racing\": video_game_sales['Genre'].value_counts().Racing,\n",
    "                   \"Platform\": video_game_sales['Genre'].value_counts().Platform,\n",
    "                   \"Misc\": video_game_sales['Genre'].value_counts().Misc,\n",
    "                   \"Fighting\": video_game_sales['Genre'].value_counts().Fighting,\n",
    "                   \"Simulation\": video_game_sales['Genre'].value_counts().Simulation,\n",
    "                   \"Strategy\": video_game_sales['Genre'].value_counts().Strategy,\n",
    "                   \"Adventure\": video_game_sales['Genre'].value_counts().Adventure,\n",
    "                   \"Puzzle\": video_game_sales['Genre'].value_counts().Puzzle}\n",
    "fig, ax2 = plt.subplots()\n",
    "ax2.barh(list(genre_number.keys()), list(genre_number.values()));\n",
    "ax2.set(title=\"Number of games in each genre within the dataset\", \n",
    "      xlabel = \"Amount of games\");"
   ]
  },
  {
   "cell_type": "markdown",
   "id": "94ef60bd-79e5-420c-9362-01d309ee0848",
   "metadata": {},
   "source": [
    "### These scatterplots showcase the relationships between Global Sales and Critic Scores, or Global Sales and User Scores.\n",
    "Select the Critic Scores or User Scores buttons to generate the respective scatterplot. Below are scatterplots that have Global Sales on the Y axis and either Critic Scores or User scores on the X axis depending on what is selected. Each red triangle represents a video game. We can see that in general, higher scores tends to favor higher sales. Here, we use the polyfit function to derive the linear regression line to show a positive relationship between the two variables."
   ]
  },
  {
   "cell_type": "code",
   "execution_count": 5,
   "id": "48045daa-a3bd-4247-9758-a6d5b28045f4",
   "metadata": {},
   "outputs": [
    {
     "data": {
      "application/vnd.jupyter.widget-view+json": {
       "model_id": "029272db0b6a4fc5a70613b577a1b2cb",
       "version_major": 2,
       "version_minor": 0
      },
      "text/plain": [
       "VBox(children=(HBox(children=(Button(button_style='info', description='Critic Scores', style=ButtonStyle(), to…"
      ]
     },
     "metadata": {},
     "output_type": "display_data"
    }
   ],
   "source": [
    "# Creation of the buttons used to generate the scatterplots\n",
    "critic_button = widgets.Button(\n",
    "    description='Critic Scores',\n",
    "    disabled=False,\n",
    "    button_style='info',\n",
    "    tooltip='Critic Scores'\n",
    ")\n",
    "user_button = widgets.Button(\n",
    "    description='User Scores',\n",
    "    disabled=False,\n",
    "    button_style='info',\n",
    "    tooltip='User Scores'\n",
    ")\n",
    "output = widgets.Output()\n",
    "\n",
    "# This function generates the scatterplot that uses Global Sales and Critic Scores\n",
    "def critic_function(b):\n",
    "    rcParams['figure.figsize'] = 10,8\n",
    "    plt.plot(video_game_sales['Critic_Score'], video_game_sales['Global_Sales'], 'r^');\n",
    "    m, b = np.polyfit(video_game_sales['Critic_Score'], video_game_sales['Global_Sales'], 1)\n",
    "    plt.plot(video_game_sales['Critic_Score'], m*video_game_sales['Critic_Score']+b, label='Linear Regression')\n",
    "    plt.xlabel(\"Critic Scores\")\n",
    "    plt.ylabel(\"Global Sales (Millions)\")\n",
    "    plt.title(\"Relationship between Global Sales and Critic Scores\")\n",
    "    plt.legend(('Video Game', 'Regression Line'))\n",
    "    with output:\n",
    "        output.clear_output()\n",
    "        plt.show()\n",
    "\n",
    "# This function generates the scatterplot that uses Global Sales and User Scores\n",
    "def user_function(b):\n",
    "    rcParams['figure.figsize'] = 10,8\n",
    "    plt.plot(video_game_sales['User_Score'], video_game_sales['Global_Sales'], 'r^');\n",
    "    m, b = np.polyfit(video_game_sales['User_Score'], video_game_sales['Global_Sales'], 1)\n",
    "    plt.plot(video_game_sales['User_Score'], m*video_game_sales['User_Score']+b, label='Linear Regression')\n",
    "    plt.xlabel(\"User Scores\")\n",
    "    plt.ylabel(\"Global Sales (Millions)\")\n",
    "    plt.title(\"Relationship between Global Sales and User Scores\")\n",
    "    plt.legend(('Video Game', 'Regression Line'))\n",
    "    with output:\n",
    "        output.clear_output()\n",
    "        plt.show()\n",
    "\n",
    "critic_button.on_click(critic_function)\n",
    "user_button.on_click(user_function)\n",
    "buttons = widgets.HBox([critic_button, user_button])\n",
    "widgets.VBox([buttons, output])"
   ]
  },
  {
   "cell_type": "code",
   "execution_count": 6,
   "id": "e81904cf-e1c2-40c6-ba42-98d384f5af63",
   "metadata": {},
   "outputs": [],
   "source": [
    "# Code to create the Critic Scores scatterplot. This is created so that the graph loads on startup of the application.\n",
    "rcParams['figure.figsize'] = 10,8\n",
    "plt.plot(video_game_sales['Critic_Score'], video_game_sales['Global_Sales'], 'r^');\n",
    "m, b = np.polyfit(video_game_sales['Critic_Score'], video_game_sales['Global_Sales'], 1)\n",
    "plt.plot(video_game_sales['Critic_Score'], m*video_game_sales['Critic_Score']+b, label='Linear Regression')\n",
    "plt.xlabel(\"Critic Scores\")\n",
    "plt.ylabel(\"Global Sales (Millions)\")\n",
    "plt.title(\"Relationship between Global Sales and Critic Scores\")\n",
    "plt.legend(('Video Game', 'Regression Line'))\n",
    "with output:\n",
    "    output.clear_output()\n",
    "    plt.show()"
   ]
  },
  {
   "cell_type": "markdown",
   "id": "45b9b2db-9b90-4282-87a8-ffb8fc5a3278",
   "metadata": {},
   "source": [
    "### Linear Regression Model\n",
    "A linear regression prediction model is used in this application. The Linear Regressor takes in Critic Scores, Critic Count, User Scores, and User count as inputs in order to predict a Global Sales value. The model is trained on 80% of the rows and tests on the remaining 20%. The R^2 value determines how accurate the model is, with 1.0 being completely perfect and 0.0 being inaccurate. Below is the R^2 value of the Linear Regressor based on the inputted data."
   ]
  },
  {
   "cell_type": "code",
   "execution_count": 7,
   "id": "9433d1c3-9140-4a69-a8ad-3c67b53be1ef",
   "metadata": {},
   "outputs": [
    {
     "name": "stdout",
     "output_type": "stream",
     "text": [
      "R^2 = 0.2035\n"
     ]
    }
   ],
   "source": [
    "# Code for the linear regression prediction model\n",
    "# A random seed is generated\n",
    "np.random.seed(42)\n",
    "\n",
    "# The data is split and created\n",
    "X = video_game_sales[[\"Critic_Score\", \"User_Score\", \"Critic_Count\", \"User_Count\"]]\n",
    "y = video_game_sales[\"Global_Sales\"]\n",
    "\n",
    "# The test sets are split\n",
    "X_train, X_test, y_train, y_test = train_test_split(X, y, test_size=0.2)\n",
    "\n",
    "# LinearRegression is instantiated\n",
    "model = LinearRegression()\n",
    "\n",
    "# The model is fit to the data so that the machine learning model can be trained\n",
    "model.fit(X_train.values, y_train);\n",
    "score = \"R^2 = %.4f\" % model.score(X_test.values, y_test)\n",
    "\n",
    "print(score)"
   ]
  },
  {
   "cell_type": "markdown",
   "id": "39977768-8b9e-4af4-9315-2848faa9f2d2",
   "metadata": {},
   "source": [
    "Mean absolute error is the average difference between actual values and predicted values calculated through the Linear Regression model. Below is the mean absolute error value of the Linear Regressor based on the inputted data."
   ]
  },
  {
   "cell_type": "code",
   "execution_count": 8,
   "id": "dd2f4d4e-7abc-4408-b947-b6d4b3fd81be",
   "metadata": {},
   "outputs": [
    {
     "name": "stdout",
     "output_type": "stream",
     "text": [
      "Mean Absolute Error = 0.5801\n"
     ]
    }
   ],
   "source": [
    "# Code to calculate the Mean Absolute Error\n",
    "y_prediction_mae = model.predict(X_test.values)\n",
    "mae = \"Mean Absolute Error = %.4f\" % mean_absolute_error(y_test, y_prediction_mae)\n",
    "print(mae)"
   ]
  },
  {
   "cell_type": "markdown",
   "id": "5af93150-3dbe-434c-808c-65b19cc4b96f",
   "metadata": {},
   "source": [
    "### Prediction Application\n",
    "Below are a series of boxes where a user can input their own values for Critic Rating, User Rating, Critic Count, and User Count. When the user clicks the predict button, a function will run that uses the inputted user values and runs it through the trained Linear Regression model. The outputted value is the predicted Global Sales value for the attributes given. The Global Sales value unit is in millions."
   ]
  },
  {
   "cell_type": "code",
   "execution_count": 9,
   "id": "78db4b52-e1b2-4ecc-87af-ecd6978e53e7",
   "metadata": {},
   "outputs": [
    {
     "data": {
      "application/vnd.jupyter.widget-view+json": {
       "model_id": "2a7f14371ee44bc784d997cefff06be8",
       "version_major": 2,
       "version_minor": 0
      },
      "text/plain": [
       "VBox(children=(IntText(value=75, description='Critic Rating:'), Output()))"
      ]
     },
     "metadata": {},
     "output_type": "display_data"
    }
   ],
   "source": [
    "# This creates a widget box that takes in Critic Rating\n",
    "critic_rating_box = widgets.IntText(\n",
    "    value=75,\n",
    "    min=0,\n",
    "    max=100.0,\n",
    "    description='Critic Rating:',\n",
    "    disabled=False\n",
    ")\n",
    "critic_rating_selection = widgets.Output()\n",
    "critic_rating_widget = widgets.VBox([critic_rating_box, critic_rating_selection])\n",
    "critic_rating_widget"
   ]
  },
  {
   "cell_type": "code",
   "execution_count": 10,
   "id": "471bc12a-c5e7-4559-bc5c-91f4bd321b2f",
   "metadata": {},
   "outputs": [
    {
     "data": {
      "application/vnd.jupyter.widget-view+json": {
       "model_id": "9a2223efb61e4be8bd57f6717558e4ef",
       "version_major": 2,
       "version_minor": 0
      },
      "text/plain": [
       "VBox(children=(BoundedFloatText(value=7.5, description='User Rating:', max=10.0, step=0.1), Output()))"
      ]
     },
     "metadata": {},
     "output_type": "display_data"
    }
   ],
   "source": [
    "# This creates a widget box that takes in User Rating\n",
    "user_rating_box = widgets.BoundedFloatText(\n",
    "    value=7.5,\n",
    "    min=0,\n",
    "    max=10.0,\n",
    "    step=0.1,\n",
    "    description='User Rating:',\n",
    "    disabled=False\n",
    ")\n",
    "user_rating_selection = widgets.Output()\n",
    "user_rating_widget = widgets.VBox([user_rating_box, user_rating_selection])\n",
    "user_rating_widget"
   ]
  },
  {
   "cell_type": "code",
   "execution_count": 11,
   "id": "b654caa7-acaf-4314-b10f-62942b57351a",
   "metadata": {},
   "outputs": [
    {
     "data": {
      "application/vnd.jupyter.widget-view+json": {
       "model_id": "b1d7a84e29fe4778897540ba27c85b4e",
       "version_major": 2,
       "version_minor": 0
      },
      "text/plain": [
       "VBox(children=(IntText(value=100, description='Critic Count:'), Output()))"
      ]
     },
     "metadata": {},
     "output_type": "display_data"
    }
   ],
   "source": [
    "# This creates a widget box that takes in Critic Count\n",
    "critic_count_box = widgets.IntText(\n",
    "    value=100,\n",
    "    min=0,\n",
    "    max=3000,\n",
    "    description='Critic Count:',\n",
    "    disabled=False\n",
    ")\n",
    "critic_count_selection = widgets.Output()\n",
    "critic_count_widget = widgets.VBox([critic_count_box, user_rating_selection])\n",
    "critic_count_widget"
   ]
  },
  {
   "cell_type": "code",
   "execution_count": 12,
   "id": "e2258c4a-1fd4-482f-981d-9d9dc73ffb2e",
   "metadata": {},
   "outputs": [
    {
     "data": {
      "application/vnd.jupyter.widget-view+json": {
       "model_id": "3f25b65c7e424cb5b792227cad36f2de",
       "version_major": 2,
       "version_minor": 0
      },
      "text/plain": [
       "VBox(children=(IntText(value=100, description='User Count:'), Output()))"
      ]
     },
     "metadata": {},
     "output_type": "display_data"
    }
   ],
   "source": [
    "# This creates a widget box that takes in User Count\n",
    "user_count_box = widgets.IntText(\n",
    "    value=100,\n",
    "    min=0,\n",
    "    max=3000,\n",
    "    description='User Count:',\n",
    "    disabled=False\n",
    ")\n",
    "user_count_selection = widgets.Output()\n",
    "user_count_widget = widgets.VBox([user_count_box, user_rating_selection])\n",
    "user_count_widget"
   ]
  },
  {
   "cell_type": "code",
   "execution_count": 13,
   "id": "7521de51-81a5-4d11-a617-4439aa10d4f7",
   "metadata": {},
   "outputs": [
    {
     "data": {
      "application/vnd.jupyter.widget-view+json": {
       "model_id": "dd7b730efecd4f1c83b122e8891b0f54",
       "version_major": 2,
       "version_minor": 0
      },
      "text/plain": [
       "VBox(children=(Button(button_style='info', description='Predict!', icon='check', style=ButtonStyle(), tooltip=…"
      ]
     },
     "metadata": {},
     "output_type": "display_data"
    }
   ],
   "source": [
    "# This code creates a predict button\n",
    "button = widgets.Button(\n",
    "    description='Predict!',\n",
    "    disabled=False,\n",
    "    button_style='info',\n",
    "    tooltip='Generate Prediction',\n",
    "    icon='check'\n",
    ")\n",
    "output2 = widgets.Output()\n",
    "\n",
    "# Function that generates a Global Sales value based on the values selected above using the trained Linear Regression model\n",
    "def predict_function(b):\n",
    "    np.random.seed(42)\n",
    "    \n",
    "    critic_rating = critic_rating_box.value\n",
    "    user_rating = user_rating_box.value\n",
    "    critic_amount = critic_count_box.value\n",
    "    user_amount = user_count_box.value\n",
    "    \n",
    "    X_pred = [[critic_rating, user_rating, critic_amount, user_amount]]\n",
    "    np_array = np.array(X_pred)\n",
    "    y_pred = model.predict(np_array)\n",
    "    \n",
    "    with output2:\n",
    "        output2.clear_output()\n",
    "        print(\"This game is predicted to sell this many units globally (Millions):\")\n",
    "        print(y_pred)\n",
    "\n",
    "button.on_click(predict_function)\n",
    "\n",
    "widgets.VBox([button, output2])"
   ]
  }
 ],
 "metadata": {
  "extensions": {
   "jupyter_dashboards": {
    "activeView": "grid_default",
    "version": 1,
    "views": {
     "grid_default": {
      "cellMargin": 10,
      "defaultCellHeight": 20,
      "maxColumns": 12,
      "name": "grid",
      "type": "grid"
     },
     "report_default": {
      "name": "report",
      "type": "report"
     }
    }
   }
  },
  "kernelspec": {
   "display_name": "Python 3 (ipykernel)",
   "language": "python",
   "name": "python3"
  },
  "language_info": {
   "codemirror_mode": {
    "name": "ipython",
    "version": 3
   },
   "file_extension": ".py",
   "mimetype": "text/x-python",
   "name": "python",
   "nbconvert_exporter": "python",
   "pygments_lexer": "ipython3",
   "version": "3.9.13"
  }
 },
 "nbformat": 4,
 "nbformat_minor": 5
}
